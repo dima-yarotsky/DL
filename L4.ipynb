{
 "cells": [
  {
   "cell_type": "code",
   "execution_count": 1,
   "id": "dd4c3114",
   "metadata": {},
   "outputs": [
    {
     "name": "stderr",
     "output_type": "stream",
     "text": [
      "/usr/lib/python3/dist-packages/scipy/__init__.py:146: UserWarning: A NumPy version >=1.17.3 and <1.25.0 is required for this version of SciPy (detected version 1.26.2\n",
      "  warnings.warn(f\"A NumPy version >={np_minversion} and <{np_maxversion}\"\n"
     ]
    }
   ],
   "source": [
    "import pandas as pd\n",
    "from sklearn.model_selection import train_test_split, cross_val_score\n",
    "from sklearn.preprocessing import LabelEncoder\n",
    "from sklearn.naive_bayes import GaussianNB\n",
    "from sklearn.metrics import accuracy_score, classification_report"
   ]
  },
  {
   "cell_type": "code",
   "execution_count": 2,
   "id": "f2be595c",
   "metadata": {},
   "outputs": [],
   "source": [
    "data = pd.read_csv('universal_top_spotify_songs.csv')"
   ]
  },
  {
   "cell_type": "code",
   "execution_count": 2,
   "id": "85bb6663",
   "metadata": {},
   "outputs": [
    {
     "name": "stdout",
     "output_type": "stream",
     "text": [
      "Общая информация о данных:\n",
      "Количество строк: 10000\n",
      "Количество столбцов: 20\n",
      "\n",
      "Типы данных по столбцам:\n",
      "spotify_id           object\n",
      "daily_rank            int64\n",
      "daily_movement        int64\n",
      "weekly_movement       int64\n",
      "country              object\n",
      "popularity            int64\n",
      "is_explicit            bool\n",
      "duration_ms           int64\n",
      "danceability        float64\n",
      "energy              float64\n",
      "key                   int64\n",
      "loudness            float64\n",
      "mode                  int64\n",
      "speechiness         float64\n",
      "acousticness        float64\n",
      "instrumentalness    float64\n",
      "liveness            float64\n",
      "valence             float64\n",
      "tempo               float64\n",
      "time_signature        int64\n",
      "dtype: object\n"
     ]
    }
   ],
   "source": [
    "# Вывод общей информации о данных\n",
    "print(\"Общая информация о данных:\")\n",
    "print(f\"Количество строк: {data.shape[0]}\")\n",
    "print(f\"Количество столбцов: {data.shape[1]}\")\n",
    "print(\"\\nТипы данных по столбцам:\")\n",
    "print(data.dtypes)"
   ]
  },
  {
   "cell_type": "code",
   "execution_count": 5,
   "id": "3f4666b7",
   "metadata": {},
   "outputs": [
    {
     "name": "stdout",
     "output_type": "stream",
     "text": [
      "Точность: 0.22388059701492538\n",
      "              precision    recall  f1-score   support\n",
      "\n",
      "           0       0.00      0.00      0.00         0\n",
      "           1       0.25      0.50      0.33         8\n",
      "           2       0.00      0.00      0.00        15\n",
      "           3       0.00      0.00      0.00         7\n",
      "           4       0.11      0.10      0.11        10\n",
      "           5       0.67      0.40      0.50        10\n",
      "           6       0.00      0.00      0.00        11\n",
      "           7       0.20      0.40      0.27         5\n",
      "           8       0.25      0.11      0.15         9\n",
      "           9       0.50      0.20      0.29        10\n",
      "          10       0.18      0.41      0.25        17\n",
      "          11       0.08      0.11      0.09         9\n",
      "          12       0.29      0.44      0.35         9\n",
      "          13       0.07      0.08      0.07        12\n",
      "          14       0.25      0.08      0.12        12\n",
      "          15       0.23      0.47      0.31        19\n",
      "          16       0.25      0.08      0.12        12\n",
      "          17       0.00      0.00      0.00         6\n",
      "          18       0.14      0.14      0.14         7\n",
      "          19       1.00      0.46      0.63        13\n",
      "\n",
      "    accuracy                           0.22       201\n",
      "   macro avg       0.22      0.20      0.19       201\n",
      "weighted avg       0.25      0.22      0.21       201\n",
      "\n"
     ]
    },
    {
     "name": "stderr",
     "output_type": "stream",
     "text": [
      "/home/dmitrii/.local/lib/python3.10/site-packages/sklearn/metrics/_classification.py:1471: UndefinedMetricWarning: Precision and F-score are ill-defined and being set to 0.0 in labels with no predicted samples. Use `zero_division` parameter to control this behavior.\n",
      "  _warn_prf(average, modifier, msg_start, len(result))\n",
      "/home/dmitrii/.local/lib/python3.10/site-packages/sklearn/metrics/_classification.py:1471: UndefinedMetricWarning: Recall and F-score are ill-defined and being set to 0.0 in labels with no true samples. Use `zero_division` parameter to control this behavior.\n",
      "  _warn_prf(average, modifier, msg_start, len(result))\n",
      "/home/dmitrii/.local/lib/python3.10/site-packages/sklearn/metrics/_classification.py:1471: UndefinedMetricWarning: Precision and F-score are ill-defined and being set to 0.0 in labels with no predicted samples. Use `zero_division` parameter to control this behavior.\n",
      "  _warn_prf(average, modifier, msg_start, len(result))\n",
      "/home/dmitrii/.local/lib/python3.10/site-packages/sklearn/metrics/_classification.py:1471: UndefinedMetricWarning: Recall and F-score are ill-defined and being set to 0.0 in labels with no true samples. Use `zero_division` parameter to control this behavior.\n",
      "  _warn_prf(average, modifier, msg_start, len(result))\n",
      "/home/dmitrii/.local/lib/python3.10/site-packages/sklearn/metrics/_classification.py:1471: UndefinedMetricWarning: Precision and F-score are ill-defined and being set to 0.0 in labels with no predicted samples. Use `zero_division` parameter to control this behavior.\n",
      "  _warn_prf(average, modifier, msg_start, len(result))\n",
      "/home/dmitrii/.local/lib/python3.10/site-packages/sklearn/metrics/_classification.py:1471: UndefinedMetricWarning: Recall and F-score are ill-defined and being set to 0.0 in labels with no true samples. Use `zero_division` parameter to control this behavior.\n",
      "  _warn_prf(average, modifier, msg_start, len(result))\n"
     ]
    }
   ],
   "source": [
    "#Преобразование категориальных признаков в числовые\n",
    "\n",
    "# Удаление ненужных столбцов или подготовка признаков и целевой переменной\n",
    "X = data.drop(['spotify_id', 'country'], axis=1) # Признаки\n",
    "y = data['country']  # Целевая переменная\n",
    "\n",
    "# Разделение данных на обучающий и тестовый наборы\n",
    "X_train, X_test, y_train, y_test = train_test_split(X, y, test_size=0.2, random_state=42)\n",
    "\n",
    "# Инициализация модели наивного Байеса\n",
    "nb = GaussianNB()\n",
    "\n",
    "# Обучение модели на обучающем наборе данных\n",
    "nb.fit(X_train, y_train)\n",
    "\n",
    "# Предсказание на тестовых данных\n",
    "predictions = nb.predict(X_test)\n",
    "\n",
    "# Оценка качества модели на тестовом наборе\n",
    "accuracy = accuracy_score(y_test, predictions)\n",
    "print(f'Точность: {accuracy}')\n",
    "\n",
    "# Вывод отчета о классификации\n",
    "print(classification_report(y_test, predictions))\n"
   ]
  },
  {
   "cell_type": "code",
   "execution_count": null,
   "id": "031af1e8",
   "metadata": {},
   "outputs": [],
   "source": []
  }
 ],
 "metadata": {
  "kernelspec": {
   "display_name": "Python 3 (ipykernel)",
   "language": "python",
   "name": "python3"
  },
  "language_info": {
   "codemirror_mode": {
    "name": "ipython",
    "version": 3
   },
   "file_extension": ".py",
   "mimetype": "text/x-python",
   "name": "python",
   "nbconvert_exporter": "python",
   "pygments_lexer": "ipython3",
   "version": "3.10.12"
  }
 },
 "nbformat": 4,
 "nbformat_minor": 5
}
