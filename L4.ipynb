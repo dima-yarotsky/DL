{
 "cells": [
  {
   "cell_type": "code",
   "execution_count": 1,
   "id": "dd4c3114",
   "metadata": {},
   "outputs": [
    {
     "name": "stderr",
     "output_type": "stream",
     "text": [
      "/usr/lib/python3/dist-packages/scipy/__init__.py:146: UserWarning: A NumPy version >=1.17.3 and <1.25.0 is required for this version of SciPy (detected version 1.26.2\n",
      "  warnings.warn(f\"A NumPy version >={np_minversion} and <{np_maxversion}\"\n"
     ]
    }
   ],
   "source": [
    "import pandas as pd\n",
    "from sklearn.model_selection import train_test_split, cross_val_score\n",
    "from sklearn.preprocessing import LabelEncoder\n",
    "from sklearn.naive_bayes import GaussianNB\n",
    "from sklearn.metrics import accuracy_score, classification_report"
   ]
  },
  {
   "cell_type": "code",
   "execution_count": 2,
   "id": "85bb6663",
   "metadata": {},
   "outputs": [
    {
     "name": "stdout",
     "output_type": "stream",
     "text": [
      "Общая информация о данных:\n",
      "Количество строк: 10000\n",
      "Количество столбцов: 20\n",
      "\n",
      "Типы данных по столбцам:\n",
      "spotify_id           object\n",
      "daily_rank            int64\n",
      "daily_movement        int64\n",
      "weekly_movement       int64\n",
      "country              object\n",
      "popularity            int64\n",
      "is_explicit            bool\n",
      "duration_ms           int64\n",
      "danceability        float64\n",
      "energy              float64\n",
      "key                   int64\n",
      "loudness            float64\n",
      "mode                  int64\n",
      "speechiness         float64\n",
      "acousticness        float64\n",
      "instrumentalness    float64\n",
      "liveness            float64\n",
      "valence             float64\n",
      "tempo               float64\n",
      "time_signature        int64\n",
      "dtype: object\n"
     ]
    }
   ],
   "source": [
    "data = pd.read_csv('universal_top_spotify_songs.csv')\n",
    "# Вывод общей информации о данных\n",
    "print(\"Общая информация о данных:\")\n",
    "print(f\"Количество строк: {data.shape[0]}\")\n",
    "print(f\"Количество столбцов: {data.shape[1]}\")\n",
    "print(\"\\nТипы данных по столбцам:\")\n",
    "print(data.dtypes)"
   ]
  },
  {
   "cell_type": "code",
   "execution_count": 6,
   "id": "3f4666b7",
   "metadata": {},
   "outputs": [
    {
     "name": "stdout",
     "output_type": "stream",
     "text": [
      "Точность: 0.1495\n",
      "              precision    recall  f1-score   support\n",
      "\n",
      "           0       0.00      0.00      0.00         1\n",
      "           9       0.00      0.00      0.00         1\n",
      "          22       0.00      0.00      0.00         0\n",
      "          31       0.00      0.00      0.00         4\n",
      "          32       0.00      0.00      0.00         0\n",
      "          33       0.00      0.00      0.00         2\n",
      "          35       0.00      0.00      0.00         0\n",
      "          36       0.00      0.00      0.00         1\n",
      "          37       0.00      0.00      0.00         1\n",
      "          39       0.25      0.25      0.25         4\n",
      "          40       0.00      0.00      0.00         1\n",
      "          41       0.00      0.00      0.00         0\n",
      "          42       0.00      0.00      0.00         3\n",
      "          43       0.00      0.00      0.00         6\n",
      "          44       0.00      0.00      0.00         5\n",
      "          45       0.00      0.00      0.00         9\n",
      "          46       0.00      0.00      0.00         4\n",
      "          47       0.00      0.00      0.00         7\n",
      "          48       0.07      0.14      0.10         7\n",
      "          49       0.00      0.00      0.00        11\n",
      "          50       0.00      0.00      0.00         8\n",
      "          51       0.00      0.00      0.00         5\n",
      "          52       0.00      0.00      0.00        11\n",
      "          53       0.00      0.00      0.00         7\n",
      "          54       0.00      0.00      0.00        14\n",
      "          55       0.00      0.00      0.00        11\n",
      "          56       0.00      0.00      0.00        19\n",
      "          57       0.00      0.00      0.00        28\n",
      "          58       0.00      0.00      0.00        32\n",
      "          59       0.00      0.00      0.00        27\n",
      "          60       0.18      0.09      0.12        34\n",
      "          61       0.00      0.00      0.00        41\n",
      "          62       0.33      0.02      0.04        43\n",
      "          63       0.00      0.00      0.00        29\n",
      "          64       0.00      0.00      0.00        39\n",
      "          65       0.10      0.09      0.10        34\n",
      "          66       0.25      0.06      0.09        36\n",
      "          67       0.19      0.08      0.11        37\n",
      "          68       0.00      0.00      0.00        27\n",
      "          69       0.00      0.00      0.00        29\n",
      "          70       0.00      0.00      0.00        11\n",
      "          71       0.08      0.07      0.07        14\n",
      "          72       0.00      0.00      0.00        32\n",
      "          73       0.00      0.00      0.00        25\n",
      "          74       0.00      0.00      0.00        32\n",
      "          75       0.17      0.11      0.13        37\n",
      "          76       0.00      0.00      0.00        38\n",
      "          77       0.00      0.00      0.00        30\n",
      "          78       0.00      0.00      0.00        24\n",
      "          79       0.31      0.22      0.26        50\n",
      "          80       0.00      0.00      0.00        43\n",
      "          81       0.00      0.00      0.00        29\n",
      "          82       0.00      0.00      0.00        40\n",
      "          83       0.11      0.11      0.11        71\n",
      "          84       0.08      0.17      0.11        58\n",
      "          85       0.08      0.08      0.08        52\n",
      "          86       0.07      0.13      0.09        63\n",
      "          87       0.15      0.30      0.20        84\n",
      "          88       0.13      0.14      0.13        93\n",
      "          89       0.18      0.30      0.23        69\n",
      "          90       0.16      0.32      0.21       101\n",
      "          91       0.21      0.16      0.18        50\n",
      "          92       0.07      0.08      0.08        38\n",
      "          93       0.11      0.23      0.14        57\n",
      "          94       0.11      0.27      0.15        66\n",
      "          95       0.26      0.27      0.26        56\n",
      "          96       0.14      0.33      0.19        30\n",
      "          97       0.18      0.58      0.28        31\n",
      "          98       0.36      0.73      0.48        49\n",
      "          99       0.48      0.46      0.47        24\n",
      "         100       0.44      0.64      0.52        25\n",
      "\n",
      "    accuracy                           0.15      2000\n",
      "   macro avg       0.07      0.09      0.07      2000\n",
      "weighted avg       0.11      0.15      0.12      2000\n",
      "\n"
     ]
    },
    {
     "name": "stderr",
     "output_type": "stream",
     "text": [
      "/home/dmitrii/.local/lib/python3.10/site-packages/sklearn/metrics/_classification.py:1471: UndefinedMetricWarning: Precision and F-score are ill-defined and being set to 0.0 in labels with no predicted samples. Use `zero_division` parameter to control this behavior.\n",
      "  _warn_prf(average, modifier, msg_start, len(result))\n",
      "/home/dmitrii/.local/lib/python3.10/site-packages/sklearn/metrics/_classification.py:1471: UndefinedMetricWarning: Recall and F-score are ill-defined and being set to 0.0 in labels with no true samples. Use `zero_division` parameter to control this behavior.\n",
      "  _warn_prf(average, modifier, msg_start, len(result))\n",
      "/home/dmitrii/.local/lib/python3.10/site-packages/sklearn/metrics/_classification.py:1471: UndefinedMetricWarning: Precision and F-score are ill-defined and being set to 0.0 in labels with no predicted samples. Use `zero_division` parameter to control this behavior.\n",
      "  _warn_prf(average, modifier, msg_start, len(result))\n",
      "/home/dmitrii/.local/lib/python3.10/site-packages/sklearn/metrics/_classification.py:1471: UndefinedMetricWarning: Recall and F-score are ill-defined and being set to 0.0 in labels with no true samples. Use `zero_division` parameter to control this behavior.\n",
      "  _warn_prf(average, modifier, msg_start, len(result))\n",
      "/home/dmitrii/.local/lib/python3.10/site-packages/sklearn/metrics/_classification.py:1471: UndefinedMetricWarning: Precision and F-score are ill-defined and being set to 0.0 in labels with no predicted samples. Use `zero_division` parameter to control this behavior.\n",
      "  _warn_prf(average, modifier, msg_start, len(result))\n",
      "/home/dmitrii/.local/lib/python3.10/site-packages/sklearn/metrics/_classification.py:1471: UndefinedMetricWarning: Recall and F-score are ill-defined and being set to 0.0 in labels with no true samples. Use `zero_division` parameter to control this behavior.\n",
      "  _warn_prf(average, modifier, msg_start, len(result))\n"
     ]
    }
   ],
   "source": [
    "#Преобразование категориальных признаков в числовые\n",
    "le = LabelEncoder()\n",
    "data['country'] = le.fit_transform(data['country'])\n",
    "\n",
    "# Удаление ненужных столбцов или подготовка признаков и целевой переменной\n",
    "X = data.drop(['spotify_id', 'popularity'], axis=1) # Признаки\n",
    "y = data['popularity']  # Целевая переменная\n",
    "\n",
    "# Разделение данных на обучающий и тестовый наборы\n",
    "X_train, X_test, y_train, y_test = train_test_split(X, y, test_size=0.2, random_state=42)\n",
    "\n",
    "# Инициализация модели наивного Байеса\n",
    "nb = GaussianNB()\n",
    "\n",
    "# Обучение модели на обучающем наборе данных\n",
    "nb.fit(X_train, y_train)\n",
    "\n",
    "# Предсказание на тестовых данных\n",
    "predictions = nb.predict(X_test)\n",
    "\n",
    "# Оценка качества модели на тестовом наборе\n",
    "accuracy = accuracy_score(y_test, predictions)\n",
    "print(f'Точность: {accuracy}')\n",
    "\n",
    "# Вывод отчета о классификации\n",
    "print(classification_report(y_test, predictions))\n"
   ]
  },
  {
   "cell_type": "code",
   "execution_count": null,
   "id": "031af1e8",
   "metadata": {},
   "outputs": [],
   "source": []
  }
 ],
 "metadata": {
  "kernelspec": {
   "display_name": "Python 3 (ipykernel)",
   "language": "python",
   "name": "python3"
  },
  "language_info": {
   "codemirror_mode": {
    "name": "ipython",
    "version": 3
   },
   "file_extension": ".py",
   "mimetype": "text/x-python",
   "name": "python",
   "nbconvert_exporter": "python",
   "pygments_lexer": "ipython3",
   "version": "3.10.12"
  }
 },
 "nbformat": 4,
 "nbformat_minor": 5
}
