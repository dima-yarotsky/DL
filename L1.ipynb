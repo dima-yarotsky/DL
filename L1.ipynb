{
 "cells": [
  {
   "cell_type": "markdown",
   "id": "890677fd",
   "metadata": {},
   "source": [
    "Лабораторная работа №1\n",
    "Задание 1\n",
    "Найти набор данных (датасет) для классификации удовлетворяющий следующим условиям: более 10 000 строк, более 20 столбцов, разные типы в столбцах, обязательно наличие целевого признака (таргета).\n",
    "\n",
    "Задание 2\n",
    "Провести классификацию найденного датасета, методом к- ближайших соседей. В формате Markdown писать пояснения. Объяснить почему были выбраны именно такие гиперпараметры, была ли перекрестная проверка, и т.д.\n",
    "\n",
    "Ход работы:"
   ]
  },
  {
   "cell_type": "markdown",
   "id": "321f16f9",
   "metadata": {},
   "source": [
    "Импортируем библиотеки и загружаем датасет"
   ]
  },
  {
   "cell_type": "code",
   "execution_count": 1,
   "id": "abb12cb7",
   "metadata": {},
   "outputs": [
    {
     "name": "stderr",
     "output_type": "stream",
     "text": [
      "/usr/lib/python3/dist-packages/scipy/__init__.py:146: UserWarning: A NumPy version >=1.17.3 and <1.25.0 is required for this version of SciPy (detected version 1.26.2\n",
      "  warnings.warn(f\"A NumPy version >={np_minversion} and <{np_maxversion}\"\n"
     ]
    }
   ],
   "source": [
    "import pandas as pd\n",
    "from sklearn.model_selection import train_test_split, GridSearchCV\n",
    "from sklearn.neighbors import KNeighborsClassifier\n",
    "from sklearn.preprocessing import LabelEncoder\n",
    "from sklearn.preprocessing import StandardScaler\n",
    "from sklearn.metrics import accuracy_score, classification_report\n",
    "from sklearn.impute import SimpleImputer"
   ]
  },
  {
   "cell_type": "code",
   "execution_count": 2,
   "id": "b0ab3f41",
   "metadata": {},
   "outputs": [],
   "source": [
    "data = pd.read_csv('universal_top_spotify_songs.csv')"
   ]
  },
  {
   "cell_type": "code",
   "execution_count": 2,
   "id": "bdfa0f28",
   "metadata": {},
   "outputs": [
    {
     "name": "stdout",
     "output_type": "stream",
     "text": [
      "Общая информация о данных:\n",
      "Количество строк: 10000\n",
      "Количество столбцов: 25\n",
      "\n",
      "Типы данных по столбцам:\n",
      "spotify_id             object\n",
      "name                   object\n",
      "artists                object\n",
      "daily_rank              int64\n",
      "daily_movement          int64\n",
      "weekly_movement         int64\n",
      "country                object\n",
      "snapshot_date          object\n",
      "popularity              int64\n",
      "is_explicit              bool\n",
      "duration_ms             int64\n",
      "album_name             object\n",
      "album_release_date     object\n",
      "danceability          float64\n",
      "energy                float64\n",
      "key                     int64\n",
      "loudness              float64\n",
      "mode                    int64\n",
      "speechiness           float64\n",
      "acousticness          float64\n",
      "instrumentalness      float64\n",
      "liveness              float64\n",
      "valence               float64\n",
      "tempo                 float64\n",
      "time_signature          int64\n",
      "dtype: object\n"
     ]
    }
   ],
   "source": [
    "# Вывод общей информации о данных\n",
    "print(\"Общая информация о данных:\")\n",
    "print(f\"Количество строк: {data.shape[0]}\")\n",
    "print(f\"Количество столбцов: {data.shape[1]}\")\n",
    "print(\"\\nТипы данных по столбцам:\")\n",
    "print(data.dtypes)"
   ]
  },
  {
   "cell_type": "code",
   "execution_count": 4,
   "id": "2c86d931",
   "metadata": {},
   "outputs": [
    {
     "name": "stderr",
     "output_type": "stream",
     "text": [
      "/home/dmitrii/.local/lib/python3.10/site-packages/sklearn/model_selection/_split.py:737: UserWarning: The least populated class in y has only 4 members, which is less than n_splits=5.\n",
      "  warnings.warn(\n"
     ]
    },
    {
     "name": "stdout",
     "output_type": "stream",
     "text": [
      "\n",
      "Лучшие параметры: {'metric': 'euclidean', 'n_neighbors': 10}\n",
      "Точность: 0.08955223880597014\n",
      "\n",
      "Отчет по классификации:\n",
      "              precision    recall  f1-score   support\n",
      "\n",
      "          PK       0.00      0.00      0.00         8\n",
      "          PL       0.00      0.00      0.00        15\n",
      "          PT       0.00      0.00      0.00         7\n",
      "          PY       0.00      0.00      0.00        10\n",
      "          RO       0.00      0.00      0.00        10\n",
      "          SA       0.08      0.09      0.09        11\n",
      "          SE       0.00      0.00      0.00         5\n",
      "          SG       0.00      0.00      0.00         9\n",
      "          SK       0.00      0.00      0.00        10\n",
      "          SV       0.00      0.00      0.00        17\n",
      "          TH       0.17      0.33      0.22         9\n",
      "          TR       0.17      0.22      0.19         9\n",
      "          TW       0.17      0.08      0.11        12\n",
      "          UA       0.00      0.00      0.00        12\n",
      "          US       0.12      0.21      0.15        19\n",
      "          UY       0.00      0.00      0.00        12\n",
      "          VE       0.00      0.00      0.00         6\n",
      "          VN       0.00      0.00      0.00         7\n",
      "          ZA       0.78      0.54      0.64        13\n",
      "\n",
      "    accuracy                           0.09       201\n",
      "   macro avg       0.08      0.08      0.07       201\n",
      "weighted avg       0.09      0.09      0.09       201\n",
      "\n"
     ]
    }
   ],
   "source": [
    "# Разделение на признаки и целевую переменную\n",
    "X = data.drop(['country'], axis=1)  # Убираем столбец популярности(целевая переменная)\n",
    "y = data['country']\n",
    "\n",
    "# Преобразование категориальных признаков в числовые\n",
    "label_encoder = LabelEncoder()\n",
    "for column in X.columns:\n",
    "    if X[column].dtype == 'object':\n",
    "        X[column] = label_encoder.fit_transform(X[column])\n",
    "\n",
    "# Разделение на обучающую и тестовую выборки\n",
    "X_train, X_test, y_train, y_test = train_test_split(X, y, test_size=0.2, random_state=42)\n",
    "\n",
    "# Создание модели k-ближайших соседей\n",
    "knn = KNeighborsClassifier()\n",
    "\n",
    "# Задаем значения параметров для перебора\n",
    "param_grid = {'n_neighbors': list(range(2, 11)), 'metric': ['euclidean', 'manhattan', 'chebyshev', 'minkowski']}\n",
    "\n",
    "# Создание объекта Grid Search с кросс-валидацией (cv=5 для примера)\n",
    "grid_search = GridSearchCV(knn, param_grid, cv=5)\n",
    "\n",
    "# Обучение Grid Search для поиска лучших параметров\n",
    "grid_search.fit(X_train, y_train)\n",
    "\n",
    "# Получение лучших параметров и модели с этими параметрами\n",
    "best_params = grid_search.best_params_\n",
    "best_knn = grid_search.best_estimator_\n",
    "\n",
    "# Получение имен из тестового набора данных\n",
    "names_test = data.loc[X_test.index]['spotify_id'].values\n",
    "\n",
    "# Предсказания на тестовой выборке с использованием лучшей модели\n",
    "predictions = best_knn.predict(X_test)\n",
    "\n",
    "# Оценка точности лучшей модели\n",
    "accuracy = accuracy_score(y_test, predictions)\n",
    "print(f\"\\nЛучшие параметры: {best_params}\")\n",
    "print(f\"Точность: {accuracy}\")\n",
    "\n",
    "# Отчет по классификации\n",
    "print(\"\\nОтчет по классификации:\")\n",
    "print(classification_report(y_test, predictions))"
   ]
  },
  {
   "cell_type": "code",
   "execution_count": null,
   "id": "225203a9",
   "metadata": {},
   "outputs": [],
   "source": []
  }
 ],
 "metadata": {
  "kernelspec": {
   "display_name": "Python 3 (ipykernel)",
   "language": "python",
   "name": "python3"
  },
  "language_info": {
   "codemirror_mode": {
    "name": "ipython",
    "version": 3
   },
   "file_extension": ".py",
   "mimetype": "text/x-python",
   "name": "python",
   "nbconvert_exporter": "python",
   "pygments_lexer": "ipython3",
   "version": "3.10.12"
  }
 },
 "nbformat": 4,
 "nbformat_minor": 5
}
