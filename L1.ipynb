{
 "cells": [
  {
   "cell_type": "markdown",
   "id": "890677fd",
   "metadata": {},
   "source": [
    "Лабораторная работа №1\n",
    "Задание 1\n",
    "Найти набор данных (датасет) для классификации удовлетворяющий следующим условиям: более 10 000 строк, более 20 столбцов, разные типы в столбцах, обязательно наличие целевого признака (таргета).\n",
    "\n",
    "Задание 2\n",
    "Провести классификацию найденного датасета, методом к- ближайших соседей. В формате Markdown писать пояснения. Объяснить почему были выбраны именно такие гиперпараметры, была ли перекрестная проверка, и т.д.\n",
    "\n",
    "Ход работы:"
   ]
  },
  {
   "cell_type": "markdown",
   "id": "321f16f9",
   "metadata": {},
   "source": [
    "Импортируем библиотеки и загружаем датасет"
   ]
  },
  {
   "cell_type": "code",
   "execution_count": 1,
   "id": "abb12cb7",
   "metadata": {},
   "outputs": [
    {
     "name": "stderr",
     "output_type": "stream",
     "text": [
      "/usr/lib/python3/dist-packages/scipy/__init__.py:146: UserWarning: A NumPy version >=1.17.3 and <1.25.0 is required for this version of SciPy (detected version 1.26.2\n",
      "  warnings.warn(f\"A NumPy version >={np_minversion} and <{np_maxversion}\"\n"
     ]
    }
   ],
   "source": [
    "import pandas as pd\n",
    "from sklearn.model_selection import train_test_split, GridSearchCV\n",
    "from sklearn.neighbors import KNeighborsClassifier\n",
    "from sklearn.preprocessing import LabelEncoder\n",
    "from sklearn.preprocessing import StandardScaler\n",
    "from sklearn.metrics import accuracy_score, classification_report\n",
    "from sklearn.impute import SimpleImputer"
   ]
  },
  {
   "cell_type": "code",
   "execution_count": 2,
   "id": "bdfa0f28",
   "metadata": {},
   "outputs": [
    {
     "name": "stdout",
     "output_type": "stream",
     "text": [
      "Общая информация о данных:\n",
      "Количество строк: 10000\n",
      "Количество столбцов: 25\n",
      "\n",
      "Типы данных по столбцам:\n",
      "spotify_id             object\n",
      "name                   object\n",
      "artists                object\n",
      "daily_rank              int64\n",
      "daily_movement          int64\n",
      "weekly_movement         int64\n",
      "country                object\n",
      "snapshot_date          object\n",
      "popularity              int64\n",
      "is_explicit              bool\n",
      "duration_ms             int64\n",
      "album_name             object\n",
      "album_release_date     object\n",
      "danceability          float64\n",
      "energy                float64\n",
      "key                     int64\n",
      "loudness              float64\n",
      "mode                    int64\n",
      "speechiness           float64\n",
      "acousticness          float64\n",
      "instrumentalness      float64\n",
      "liveness              float64\n",
      "valence               float64\n",
      "tempo                 float64\n",
      "time_signature          int64\n",
      "dtype: object\n"
     ]
    }
   ],
   "source": [
    "\n",
    "data = pd.read_csv('universal_top_spotify_songs.csv')\n",
    "# Вывод общей информации о данных\n",
    "print(\"Общая информация о данных:\")\n",
    "print(f\"Количество строк: {data.shape[0]}\")\n",
    "print(f\"Количество столбцов: {data.shape[1]}\")\n",
    "print(\"\\nТипы данных по столбцам:\")\n",
    "print(data.dtypes)"
   ]
  },
  {
   "cell_type": "code",
   "execution_count": 3,
   "id": "2c86d931",
   "metadata": {},
   "outputs": [
    {
     "name": "stderr",
     "output_type": "stream",
     "text": [
      "/home/dmitrii/.local/lib/python3.10/site-packages/sklearn/model_selection/_split.py:737: UserWarning: The least populated class in y has only 1 members, which is less than n_splits=5.\n",
      "  warnings.warn(\n"
     ]
    },
    {
     "name": "stdout",
     "output_type": "stream",
     "text": [
      "\n",
      "Лучшие параметры: {'metric': 'manhattan', 'n_neighbors': 2}\n",
      "Точность: 0.7135\n",
      "\n",
      "Отчет по классификации:\n",
      "              precision    recall  f1-score   support\n",
      "\n",
      "           0       0.00      0.00      0.00         1\n",
      "           9       0.00      0.00      0.00         1\n",
      "          22       0.00      0.00      0.00         0\n",
      "          31       0.50      0.50      0.50         4\n",
      "          33       1.00      1.00      1.00         2\n",
      "          35       0.00      0.00      0.00         0\n",
      "          36       0.00      0.00      0.00         1\n",
      "          37       0.00      0.00      0.00         1\n",
      "          38       0.00      0.00      0.00         0\n",
      "          39       0.25      0.25      0.25         4\n",
      "          40       0.00      0.00      0.00         1\n",
      "          41       0.00      0.00      0.00         0\n",
      "          42       0.00      0.00      0.00         3\n",
      "          43       0.25      0.17      0.20         6\n",
      "          44       0.00      0.00      0.00         5\n",
      "          45       0.88      0.78      0.82         9\n",
      "          46       0.50      0.75      0.60         4\n",
      "          47       0.75      0.43      0.55         7\n",
      "          48       0.56      0.71      0.63         7\n",
      "          49       0.90      0.82      0.86        11\n",
      "          50       0.55      0.75      0.63         8\n",
      "          51       0.80      0.80      0.80         5\n",
      "          52       0.44      0.64      0.52        11\n",
      "          53       0.50      0.29      0.36         7\n",
      "          54       0.59      0.71      0.65        14\n",
      "          55       0.47      0.64      0.54        11\n",
      "          56       0.50      0.68      0.58        19\n",
      "          57       0.55      0.57      0.56        28\n",
      "          58       0.68      0.72      0.70        32\n",
      "          59       0.59      0.63      0.61        27\n",
      "          60       0.51      0.62      0.56        34\n",
      "          61       0.55      0.56      0.55        41\n",
      "          62       0.61      0.65      0.63        43\n",
      "          63       0.45      0.48      0.47        29\n",
      "          64       0.66      0.54      0.59        39\n",
      "          65       0.51      0.56      0.54        34\n",
      "          66       0.67      0.72      0.69        36\n",
      "          67       0.62      0.70      0.66        37\n",
      "          68       0.73      0.70      0.72        27\n",
      "          69       0.71      0.69      0.70        29\n",
      "          70       0.28      0.45      0.34        11\n",
      "          71       0.40      0.43      0.41        14\n",
      "          72       0.68      0.78      0.72        32\n",
      "          73       0.50      0.52      0.51        25\n",
      "          74       0.65      0.53      0.59        32\n",
      "          75       0.89      0.65      0.75        37\n",
      "          76       0.76      0.82      0.78        38\n",
      "          77       0.71      0.67      0.69        30\n",
      "          78       0.82      0.58      0.68        24\n",
      "          79       0.86      0.76      0.81        50\n",
      "          80       0.82      0.53      0.65        43\n",
      "          81       0.79      0.66      0.72        29\n",
      "          82       0.63      0.65      0.64        40\n",
      "          83       0.81      0.82      0.81        71\n",
      "          84       0.84      0.74      0.79        58\n",
      "          85       0.76      0.75      0.76        52\n",
      "          86       0.76      0.81      0.78        63\n",
      "          87       0.77      0.80      0.78        84\n",
      "          88       0.86      0.76      0.81        93\n",
      "          89       0.90      0.83      0.86        69\n",
      "          90       0.83      0.89      0.86       101\n",
      "          91       0.78      0.72      0.75        50\n",
      "          92       0.82      0.74      0.78        38\n",
      "          93       0.80      0.86      0.83        57\n",
      "          94       0.83      0.80      0.82        66\n",
      "          95       0.83      0.88      0.85        56\n",
      "          96       0.71      0.80      0.75        30\n",
      "          97       0.81      0.68      0.74        31\n",
      "          98       0.90      0.92      0.91        49\n",
      "          99       0.60      0.62      0.61        24\n",
      "         100       0.71      0.60      0.65        25\n",
      "\n",
      "    accuracy                           0.71      2000\n",
      "   macro avg       0.57      0.56      0.56      2000\n",
      "weighted avg       0.73      0.71      0.72      2000\n",
      "\n"
     ]
    },
    {
     "name": "stderr",
     "output_type": "stream",
     "text": [
      "/home/dmitrii/.local/lib/python3.10/site-packages/sklearn/metrics/_classification.py:1471: UndefinedMetricWarning: Precision and F-score are ill-defined and being set to 0.0 in labels with no predicted samples. Use `zero_division` parameter to control this behavior.\n",
      "  _warn_prf(average, modifier, msg_start, len(result))\n",
      "/home/dmitrii/.local/lib/python3.10/site-packages/sklearn/metrics/_classification.py:1471: UndefinedMetricWarning: Recall and F-score are ill-defined and being set to 0.0 in labels with no true samples. Use `zero_division` parameter to control this behavior.\n",
      "  _warn_prf(average, modifier, msg_start, len(result))\n",
      "/home/dmitrii/.local/lib/python3.10/site-packages/sklearn/metrics/_classification.py:1471: UndefinedMetricWarning: Precision and F-score are ill-defined and being set to 0.0 in labels with no predicted samples. Use `zero_division` parameter to control this behavior.\n",
      "  _warn_prf(average, modifier, msg_start, len(result))\n",
      "/home/dmitrii/.local/lib/python3.10/site-packages/sklearn/metrics/_classification.py:1471: UndefinedMetricWarning: Recall and F-score are ill-defined and being set to 0.0 in labels with no true samples. Use `zero_division` parameter to control this behavior.\n",
      "  _warn_prf(average, modifier, msg_start, len(result))\n",
      "/home/dmitrii/.local/lib/python3.10/site-packages/sklearn/metrics/_classification.py:1471: UndefinedMetricWarning: Precision and F-score are ill-defined and being set to 0.0 in labels with no predicted samples. Use `zero_division` parameter to control this behavior.\n",
      "  _warn_prf(average, modifier, msg_start, len(result))\n",
      "/home/dmitrii/.local/lib/python3.10/site-packages/sklearn/metrics/_classification.py:1471: UndefinedMetricWarning: Recall and F-score are ill-defined and being set to 0.0 in labels with no true samples. Use `zero_division` parameter to control this behavior.\n",
      "  _warn_prf(average, modifier, msg_start, len(result))\n"
     ]
    }
   ],
   "source": [
    "# Разделение на признаки и целевую переменную\n",
    "X = data.drop(['popularity'], axis=1)  # Убираем столбец с медицинским состоянием (целевая переменная)\n",
    "y = data['popularity']\n",
    "\n",
    "# Преобразование категориальных признаков в числовые\n",
    "label_encoder = LabelEncoder()\n",
    "for column in X.columns:\n",
    "    if X[column].dtype == 'object':\n",
    "        X[column] = label_encoder.fit_transform(X[column])\n",
    "\n",
    "# Разделение на обучающую и тестовую выборки\n",
    "X_train, X_test, y_train, y_test = train_test_split(X, y, test_size=0.2, random_state=42)\n",
    "\n",
    "# Создание модели k-ближайших соседей\n",
    "knn = KNeighborsClassifier()\n",
    "\n",
    "# Задаем значения параметров для перебора\n",
    "param_grid = {'n_neighbors': list(range(2, 11)), 'metric': ['euclidean', 'manhattan', 'chebyshev', 'minkowski']}\n",
    "\n",
    "# Создание объекта Grid Search с кросс-валидацией (cv=5 для примера)\n",
    "grid_search = GridSearchCV(knn, param_grid, cv=5)\n",
    "\n",
    "# Обучение Grid Search для поиска лучших параметров\n",
    "grid_search.fit(X_train, y_train)\n",
    "\n",
    "# Получение лучших параметров и модели с этими параметрами\n",
    "best_params = grid_search.best_params_\n",
    "best_knn = grid_search.best_estimator_\n",
    "\n",
    "# Получение имен из тестового набора данных\n",
    "names_test = data.loc[X_test.index]['name'].values\n",
    "\n",
    "# Предсказания на тестовой выборке с использованием лучшей модели\n",
    "predictions = best_knn.predict(X_test)\n",
    "\n",
    "# Оценка точности лучшей модели\n",
    "accuracy = accuracy_score(y_test, predictions)\n",
    "print(f\"\\nЛучшие параметры: {best_params}\")\n",
    "print(f\"Точность: {accuracy}\")\n",
    "\n",
    "# Отчет по классификации\n",
    "print(\"\\nОтчет по классификации:\")\n",
    "print(classification_report(y_test, predictions))"
   ]
  },
  {
   "cell_type": "code",
   "execution_count": null,
   "id": "225203a9",
   "metadata": {},
   "outputs": [],
   "source": []
  }
 ],
 "metadata": {
  "kernelspec": {
   "display_name": "Python 3 (ipykernel)",
   "language": "python",
   "name": "python3"
  },
  "language_info": {
   "codemirror_mode": {
    "name": "ipython",
    "version": 3
   },
   "file_extension": ".py",
   "mimetype": "text/x-python",
   "name": "python",
   "nbconvert_exporter": "python",
   "pygments_lexer": "ipython3",
   "version": "3.10.12"
  }
 },
 "nbformat": 4,
 "nbformat_minor": 5
}
