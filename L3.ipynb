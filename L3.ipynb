{
 "cells": [
  {
   "cell_type": "code",
   "execution_count": 1,
   "id": "5d38fdcc",
   "metadata": {},
   "outputs": [
    {
     "name": "stderr",
     "output_type": "stream",
     "text": [
      "/usr/lib/python3/dist-packages/scipy/__init__.py:146: UserWarning: A NumPy version >=1.17.3 and <1.25.0 is required for this version of SciPy (detected version 1.26.2\n",
      "  warnings.warn(f\"A NumPy version >={np_minversion} and <{np_maxversion}\"\n"
     ]
    }
   ],
   "source": [
    "import pandas as pd\n",
    "from sklearn.model_selection import train_test_split\n",
    "from sklearn.preprocessing import LabelEncoder\n",
    "from sklearn.linear_model import LinearRegression, LogisticRegression\n",
    "from sklearn.metrics import accuracy_score, mean_squared_error, r2_score, classification_report"
   ]
  },
  {
   "cell_type": "code",
   "execution_count": 2,
   "id": "2bdd8fb6",
   "metadata": {},
   "outputs": [],
   "source": [
    "data = pd.read_csv('universal_top_spotify_songs.csv')"
   ]
  },
  {
   "cell_type": "code",
   "execution_count": 2,
   "id": "b6f0aa09",
   "metadata": {},
   "outputs": [
    {
     "name": "stdout",
     "output_type": "stream",
     "text": [
      "Общая информация о данных:\n",
      "Количество строк: 10000\n",
      "Количество столбцов: 20\n",
      "\n",
      "Типы данных по столбцам:\n",
      "spotify_id           object\n",
      "daily_rank            int64\n",
      "daily_movement        int64\n",
      "weekly_movement       int64\n",
      "country              object\n",
      "popularity            int64\n",
      "is_explicit            bool\n",
      "duration_ms           int64\n",
      "danceability        float64\n",
      "energy              float64\n",
      "key                   int64\n",
      "loudness            float64\n",
      "mode                  int64\n",
      "speechiness         float64\n",
      "acousticness        float64\n",
      "instrumentalness    float64\n",
      "liveness            float64\n",
      "valence             float64\n",
      "tempo               float64\n",
      "time_signature        int64\n",
      "dtype: object\n"
     ]
    }
   ],
   "source": [
    "# Вывод общей информации о данных\n",
    "print(\"Общая информация о данных:\")\n",
    "print(f\"Количество строк: {data.shape[0]}\")\n",
    "print(f\"Количество столбцов: {data.shape[1]}\")\n",
    "print(\"\\nТипы данных по столбцам:\")\n",
    "print(data.dtypes)"
   ]
  },
  {
   "cell_type": "code",
   "execution_count": 3,
   "id": "5a418bac",
   "metadata": {},
   "outputs": [
    {
     "name": "stdout",
     "output_type": "stream",
     "text": [
      "Точность (Логистическая регрессия - Начальные параметры) : 0.12437810945273632\n",
      "Accuracy (Логистическая регрессия - Кастомные параметры) : 0.12437810945273632\n",
      "Classification Report (Логистическая регрессия - Начальные параметры):\n",
      "              precision    recall  f1-score   support\n",
      "\n",
      "           1       1.00      0.00      0.00         8\n",
      "           2       1.00      0.00      0.00        15\n",
      "           3       1.00      0.00      0.00         7\n",
      "           4       1.00      0.00      0.00        10\n",
      "           5       1.00      0.00      0.00        10\n",
      "           6       0.00      0.00      1.00        11\n",
      "           7       1.00      0.00      0.00         5\n",
      "           8       1.00      0.00      0.00         9\n",
      "           9       1.00      0.00      0.00        10\n",
      "          10       1.00      0.00      0.00        17\n",
      "          11       0.06      0.22      0.09         9\n",
      "          12       1.00      0.00      0.00         9\n",
      "          13       1.00      0.00      0.00        12\n",
      "          14       1.00      0.00      0.00        12\n",
      "          15       0.12      0.89      0.22        19\n",
      "          16       1.00      0.00      0.00        12\n",
      "          17       1.00      0.00      0.00         6\n",
      "          18       0.00      0.00      1.00         7\n",
      "          19       0.32      0.46      0.37        13\n",
      "\n",
      "    accuracy                           0.12       201\n",
      "   macro avg       0.76      0.08      0.14       201\n",
      "weighted avg       0.74      0.12      0.14       201\n",
      "\n",
      "Classification Report (Логистическая регрессия - Кастомные параметры):\n",
      "              precision    recall  f1-score   support\n",
      "\n",
      "           1       1.00      0.00      0.00         8\n",
      "           2       1.00      0.00      0.00        15\n",
      "           3       1.00      0.00      0.00         7\n",
      "           4       1.00      0.00      0.00        10\n",
      "           5       1.00      0.00      0.00        10\n",
      "           6       0.00      0.00      1.00        11\n",
      "           7       1.00      0.00      0.00         5\n",
      "           8       1.00      0.00      0.00         9\n",
      "           9       1.00      0.00      0.00        10\n",
      "          10       1.00      0.00      0.00        17\n",
      "          11       0.06      0.22      0.09         9\n",
      "          12       1.00      0.00      0.00         9\n",
      "          13       1.00      0.00      0.00        12\n",
      "          14       1.00      0.00      0.00        12\n",
      "          15       0.12      0.89      0.22        19\n",
      "          16       1.00      0.00      0.00        12\n",
      "          17       1.00      0.00      0.00         6\n",
      "          18       0.00      0.00      1.00         7\n",
      "          19       0.32      0.46      0.37        13\n",
      "\n",
      "    accuracy                           0.12       201\n",
      "   macro avg       0.76      0.08      0.14       201\n",
      "weighted avg       0.74      0.12      0.14       201\n",
      "\n",
      "Среднеквадратичная ошибка (Линейная регрессия) : 26.375590836457757\n",
      "R^2 Score (Линейная регрессия) : 0.09530055152716399\n"
     ]
    }
   ],
   "source": [
    "# Преобразование категориальных признаков в числовые\n",
    "label_encoder = LabelEncoder()\n",
    "for column in data.columns:\n",
    "    if data[column].dtype == 'object':\n",
    "        data[column] = label_encoder.fit_transform(data[column])\n",
    "\n",
    "# Удаление ненужных столбцов или подготовка признаков и целевой переменной\n",
    "X = data.drop(['spotify_id', 'country'], axis=1) # Признаки\n",
    "y = data['country']  # Целевая переменная\n",
    "\n",
    "# Разделение данных на обучающий и тестовый наборы\n",
    "X_train, X_test, y_train, y_test = train_test_split(X, y, test_size=0.2, random_state=42)\n",
    "\n",
    "# Модели логистической регрессии с разными гиперпараметрами\n",
    "logistic_model_1 = LogisticRegression(max_iter=1000)  # Модель с параметрами по умолчанию\n",
    "logistic_model_2 = LogisticRegression(penalty='l2', C=1.0, solver='lbfgs', max_iter=1000)  # Модель с настроенными гиперпараметрами\n",
    "\n",
    "# Обучение моделей\n",
    "logistic_model_1.fit(X_train, y_train)\n",
    "logistic_model_2.fit(X_train, y_train)\n",
    "\n",
    "# Получение предсказаний для тестового набора данных\n",
    "logistic_predictions_1 = logistic_model_1.predict(X_test)\n",
    "logistic_predictions_2 = logistic_model_2.predict(X_test)\n",
    "\n",
    "# Оценка производительности моделей на тестовом наборе данных\n",
    "accuracy_1 = accuracy_score(y_test, logistic_predictions_1)\n",
    "accuracy_2 = accuracy_score(y_test, logistic_predictions_2)\n",
    "\n",
    "print(f\"Точность (Логистическая регрессия - Начальные параметры) : {accuracy_1}\")\n",
    "print(f\"Accuracy (Логистическая регрессия - Кастомные параметры) : {accuracy_2}\")\n",
    "\n",
    "# Вывод отчета по классификации для каждой модели\n",
    "report_1 = classification_report(y_test, logistic_predictions_1, zero_division=1)\n",
    "report_2 = classification_report(y_test, logistic_predictions_2, zero_division=1)\n",
    "\n",
    "print(\"Classification Report (Логистическая регрессия - Начальные параметры):\")\n",
    "print(report_1)\n",
    "\n",
    "print(\"Classification Report (Логистическая регрессия - Кастомные параметры):\")\n",
    "print(report_2)\n",
    "\n",
    "# Модель линейной регрессии без указанных гиперпараметров\n",
    "linear_model = LinearRegression()\n",
    "\n",
    "# Обучение модели линейной регрессии\n",
    "linear_model.fit(X_train, y_train)\n",
    "\n",
    "# Получение предсказаний для тестового набора данных\n",
    "linear_predictions = linear_model.predict(X_test)\n",
    "\n",
    "# Оценка производительности модели линейной регрессии на тестовом наборе данных\n",
    "mse = mean_squared_error(y_test, linear_predictions)\n",
    "r2 = r2_score(y_test, linear_predictions)\n",
    "\n",
    "print(f\"Среднеквадратичная ошибка (Линейная регрессия) : {mse}\")\n",
    "print(f\"R^2 Score (Линейная регрессия) : {r2}\")\n"
   ]
  },
  {
   "cell_type": "code",
   "execution_count": null,
   "id": "03de7ca1",
   "metadata": {},
   "outputs": [],
   "source": []
  }
 ],
 "metadata": {
  "kernelspec": {
   "display_name": "Python 3 (ipykernel)",
   "language": "python",
   "name": "python3"
  },
  "language_info": {
   "codemirror_mode": {
    "name": "ipython",
    "version": 3
   },
   "file_extension": ".py",
   "mimetype": "text/x-python",
   "name": "python",
   "nbconvert_exporter": "python",
   "pygments_lexer": "ipython3",
   "version": "3.10.12"
  }
 },
 "nbformat": 4,
 "nbformat_minor": 5
}
