{
 "cells": [
  {
   "cell_type": "code",
   "execution_count": 2,
   "id": "4c6a2ce9",
   "metadata": {},
   "outputs": [
    {
     "name": "stderr",
     "output_type": "stream",
     "text": [
      "/usr/lib/python3/dist-packages/scipy/__init__.py:146: UserWarning: A NumPy version >=1.17.3 and <1.25.0 is required for this version of SciPy (detected version 1.26.2\n",
      "  warnings.warn(f\"A NumPy version >={np_minversion} and <{np_maxversion}\"\n"
     ]
    }
   ],
   "source": [
    "import pandas as pd\n",
    "from sklearn.model_selection import train_test_split, GridSearchCV\n",
    "from sklearn.preprocessing import LabelEncoder\n",
    "from sklearn.tree import DecisionTreeClassifier\n",
    "from sklearn.ensemble import RandomForestClassifier\n",
    "from sklearn.metrics import accuracy_score, classification_report"
   ]
  },
  {
   "cell_type": "code",
   "execution_count": 3,
   "id": "54681269",
   "metadata": {},
   "outputs": [],
   "source": [
    "data = pd.read_csv('universal_top_spotify_songs.csv')"
   ]
  },
  {
   "cell_type": "code",
   "execution_count": 2,
   "id": "1e96bb6f",
   "metadata": {},
   "outputs": [
    {
     "name": "stdout",
     "output_type": "stream",
     "text": [
      "Общая информация о данных:\n",
      "Количество строк: 10000\n",
      "Количество столбцов: 20\n",
      "\n",
      "Типы данных по столбцам:\n",
      "spotify_id           object\n",
      "daily_rank            int64\n",
      "daily_movement        int64\n",
      "weekly_movement       int64\n",
      "country              object\n",
      "popularity            int64\n",
      "is_explicit            bool\n",
      "duration_ms           int64\n",
      "danceability        float64\n",
      "energy              float64\n",
      "key                   int64\n",
      "loudness            float64\n",
      "mode                  int64\n",
      "speechiness         float64\n",
      "acousticness        float64\n",
      "instrumentalness    float64\n",
      "liveness            float64\n",
      "valence             float64\n",
      "tempo               float64\n",
      "time_signature        int64\n",
      "dtype: object\n"
     ]
    }
   ],
   "source": [
    "# Вывод общей информации о данных\n",
    "print(\"Общая информация о данных:\")\n",
    "print(f\"Количество строк: {data.shape[0]}\")\n",
    "print(f\"Количество столбцов: {data.shape[1]}\")\n",
    "print(\"\\nТипы данных по столбцам:\")\n",
    "print(data.dtypes)"
   ]
  },
  {
   "cell_type": "code",
   "execution_count": 4,
   "id": "261fdbcf",
   "metadata": {},
   "outputs": [
    {
     "name": "stderr",
     "output_type": "stream",
     "text": [
      "/home/dmitrii/.local/lib/python3.10/site-packages/sklearn/model_selection/_split.py:737: UserWarning: The least populated class in y has only 4 members, which is less than n_splits=5.\n",
      "  warnings.warn(\n"
     ]
    },
    {
     "name": "stdout",
     "output_type": "stream",
     "text": [
      "Лучшие параметры для решающего дерева: {'max_depth': 10, 'min_samples_leaf': 4, 'min_samples_split': 2}\n",
      "Точность настроенных параметров решающего дерева: 0.208955223880597\n",
      "Classification Report of Tuned Decision Tree:\n",
      "              precision    recall  f1-score   support\n",
      "\n",
      "          PK       0.11      0.25      0.15         8\n",
      "          PL       0.11      0.07      0.08        15\n",
      "          PT       0.00      0.00      0.00         7\n",
      "          PY       0.14      0.20      0.17        10\n",
      "          RO       0.40      0.60      0.48        10\n",
      "          SA       0.00      0.00      0.00        11\n",
      "          SE       0.00      0.00      0.00         5\n",
      "          SG       0.00      0.00      0.00         9\n",
      "          SK       1.00      0.50      0.67        10\n",
      "          SV       0.17      0.06      0.09        17\n",
      "          TH       0.25      0.22      0.24         9\n",
      "          TR       0.33      0.22      0.27         9\n",
      "          TW       0.50      0.17      0.25        12\n",
      "          UA       0.18      0.17      0.17        12\n",
      "          US       0.22      0.63      0.32        19\n",
      "          UY       0.50      0.08      0.14        12\n",
      "          VE       0.00      0.00      0.00         6\n",
      "          VN       0.33      0.29      0.31         7\n",
      "          ZA       0.50      0.15      0.24        13\n",
      "\n",
      "    accuracy                           0.21       201\n",
      "   macro avg       0.25      0.19      0.19       201\n",
      "weighted avg       0.26      0.21      0.20       201\n",
      "\n"
     ]
    },
    {
     "name": "stderr",
     "output_type": "stream",
     "text": [
      "/home/dmitrii/.local/lib/python3.10/site-packages/sklearn/model_selection/_split.py:737: UserWarning: The least populated class in y has only 4 members, which is less than n_splits=5.\n",
      "  warnings.warn(\n"
     ]
    },
    {
     "name": "stdout",
     "output_type": "stream",
     "text": [
      "\n",
      "Лушчие параметры для случайного леса: {'max_depth': 5, 'min_samples_leaf': 1, 'min_samples_split': 5, 'n_estimators': 50}\n",
      "Точность настроенных параметров случайного леса: 0.23383084577114427\n",
      "Classification Report of Tuned Random Forest:\n",
      "              precision    recall  f1-score   support\n",
      "\n",
      "          PK       0.29      0.25      0.27         8\n",
      "          PL       0.50      0.07      0.12        15\n",
      "          PT       0.00      0.00      0.00         7\n",
      "          PY       0.00      0.00      0.00        10\n",
      "          RO       0.50      0.60      0.55        10\n",
      "          SA       0.00      0.00      0.00        11\n",
      "          SE       0.00      0.00      0.00         5\n",
      "          SG       0.00      0.00      0.00         9\n",
      "          SK       0.60      0.30      0.40        10\n",
      "          SV       0.00      0.00      0.00        17\n",
      "          TH       0.00      0.00      0.00         9\n",
      "          TR       0.40      0.44      0.42         9\n",
      "          TW       0.33      0.25      0.29        12\n",
      "          UA       0.40      0.17      0.24        12\n",
      "          US       0.22      0.84      0.35        19\n",
      "          UY       0.18      0.17      0.17        12\n",
      "          VE       0.00      0.00      0.00         6\n",
      "          VN       0.15      0.29      0.20         7\n",
      "          ZA       0.60      0.46      0.52        13\n",
      "\n",
      "    accuracy                           0.23       201\n",
      "   macro avg       0.22      0.20      0.19       201\n",
      "weighted avg       0.24      0.23      0.20       201\n",
      "\n"
     ]
    },
    {
     "name": "stderr",
     "output_type": "stream",
     "text": [
      "/home/dmitrii/.local/lib/python3.10/site-packages/sklearn/metrics/_classification.py:1471: UndefinedMetricWarning: Precision and F-score are ill-defined and being set to 0.0 in labels with no predicted samples. Use `zero_division` parameter to control this behavior.\n",
      "  _warn_prf(average, modifier, msg_start, len(result))\n",
      "/home/dmitrii/.local/lib/python3.10/site-packages/sklearn/metrics/_classification.py:1471: UndefinedMetricWarning: Precision and F-score are ill-defined and being set to 0.0 in labels with no predicted samples. Use `zero_division` parameter to control this behavior.\n",
      "  _warn_prf(average, modifier, msg_start, len(result))\n",
      "/home/dmitrii/.local/lib/python3.10/site-packages/sklearn/metrics/_classification.py:1471: UndefinedMetricWarning: Precision and F-score are ill-defined and being set to 0.0 in labels with no predicted samples. Use `zero_division` parameter to control this behavior.\n",
      "  _warn_prf(average, modifier, msg_start, len(result))\n"
     ]
    }
   ],
   "source": [
    "# Предположим, что вы хотите предсказать 'Medical Condition' на основе других столбцов\n",
    "# Выборка признаков и целевой переменной\n",
    "features = ['popularity', 'daily_rank', 'is_explicit', 'danceability', 'energy', 'loudness', 'acousticness', 'tempo', 'time_signature']\n",
    "target = 'country'\n",
    "\n",
    "X = data[features]\n",
    "y = data[target]\n",
    "\n",
    "# Преобразование категориальных признаков в числовые значения\n",
    "label_encoders = {}\n",
    "for column in X.select_dtypes(include=['object']).columns:\n",
    "    label_encoders[column] = LabelEncoder()\n",
    "    X.loc[:, column] = label_encoders[column].fit_transform(X.loc[:, column])\n",
    "\n",
    "# Разделение данных на обучающую и тестовую выборки\n",
    "X_train, X_test, y_train, y_test = train_test_split(X, y, test_size=0.2, random_state=42)\n",
    "\n",
    "# Настройка гиперпараметров для решающего дерева\n",
    "params_dt = {\n",
    "    'max_depth': [3, 5, 7, 10],\n",
    "    'min_samples_split': [2, 5, 10],\n",
    "    'min_samples_leaf': [1, 2, 4]\n",
    "}\n",
    "\n",
    "decision_tree = DecisionTreeClassifier(random_state=42)\n",
    "grid_search_dt = GridSearchCV(decision_tree, params_dt, cv=5)\n",
    "grid_search_dt.fit(X_train, y_train)\n",
    "\n",
    "best_decision_tree = grid_search_dt.best_estimator_\n",
    "predictions_dt_tuned = best_decision_tree.predict(X_test)\n",
    "accuracy_dt_tuned = accuracy_score(y_test, predictions_dt_tuned)\n",
    "\n",
    "print(\"Лучшие параметры для решающего дерева:\", grid_search_dt.best_params_)\n",
    "print(\"Точность настроенных параметров решающего дерева:\", accuracy_dt_tuned)\n",
    "print(\"Classification Report of Tuned Decision Tree:\")\n",
    "print(classification_report(y_test, predictions_dt_tuned))\n",
    "\n",
    "params_rf = {\n",
    "    'n_estimators': [50, 100],\n",
    "    'max_depth': [None, 5],\n",
    "    'min_samples_split': [2, 5],\n",
    "    'min_samples_leaf': [1]\n",
    "}\n",
    "\n",
    "random_forest = RandomForestClassifier(random_state=42)\n",
    "grid_search_rf = GridSearchCV(random_forest, params_rf, cv=5)\n",
    "grid_search_rf.fit(X_train, y_train)\n",
    "\n",
    "best_random_forest = grid_search_rf.best_estimator_\n",
    "predictions_rf_tuned = best_random_forest.predict(X_test)\n",
    "accuracy_rf_tuned = accuracy_score(y_test, predictions_rf_tuned)\n",
    "\n",
    "print(\"\\nЛушчие параметры для случайного леса:\", grid_search_rf.best_params_)\n",
    "print(\"Точность настроенных параметров случайного леса:\", accuracy_rf_tuned)\n",
    "print(\"Classification Report of Tuned Random Forest:\")\n",
    "print(classification_report(y_test, predictions_rf_tuned))"
   ]
  },
  {
   "cell_type": "code",
   "execution_count": null,
   "id": "d56ae86e",
   "metadata": {},
   "outputs": [],
   "source": []
  }
 ],
 "metadata": {
  "kernelspec": {
   "display_name": "Python 3 (ipykernel)",
   "language": "python",
   "name": "python3"
  },
  "language_info": {
   "codemirror_mode": {
    "name": "ipython",
    "version": 3
   },
   "file_extension": ".py",
   "mimetype": "text/x-python",
   "name": "python",
   "nbconvert_exporter": "python",
   "pygments_lexer": "ipython3",
   "version": "3.10.12"
  }
 },
 "nbformat": 4,
 "nbformat_minor": 5
}
